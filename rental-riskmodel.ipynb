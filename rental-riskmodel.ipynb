{
 "cells": [
  {
   "cell_type": "code",
   "execution_count": 1,
   "metadata": {},
   "outputs": [
    {
     "data": {
      "text/html": [
       "<div>\n",
       "<style scoped>\n",
       "    .dataframe tbody tr th:only-of-type {\n",
       "        vertical-align: middle;\n",
       "    }\n",
       "\n",
       "    .dataframe tbody tr th {\n",
       "        vertical-align: top;\n",
       "    }\n",
       "\n",
       "    .dataframe thead th {\n",
       "        text-align: right;\n",
       "    }\n",
       "</style>\n",
       "<table border=\"1\" class=\"dataframe\">\n",
       "  <thead>\n",
       "    <tr style=\"text-align: right;\">\n",
       "      <th></th>\n",
       "      <th>customer_id</th>\n",
       "      <th>average_mileage_per_rental</th>\n",
       "      <th>total_maintenance_cost</th>\n",
       "      <th>average_rental_duration</th>\n",
       "      <th>late_return</th>\n",
       "      <th>at_risk</th>\n",
       "    </tr>\n",
       "  </thead>\n",
       "  <tbody>\n",
       "    <tr>\n",
       "      <th>0</th>\n",
       "      <td>0</td>\n",
       "      <td>89.143694</td>\n",
       "      <td>425.117253</td>\n",
       "      <td>10.451553</td>\n",
       "      <td>1</td>\n",
       "      <td>0</td>\n",
       "    </tr>\n",
       "    <tr>\n",
       "      <th>1</th>\n",
       "      <td>1</td>\n",
       "      <td>109.973454</td>\n",
       "      <td>556.759473</td>\n",
       "      <td>11.597245</td>\n",
       "      <td>0</td>\n",
       "      <td>0</td>\n",
       "    </tr>\n",
       "    <tr>\n",
       "      <th>2</th>\n",
       "      <td>2</td>\n",
       "      <td>102.829785</td>\n",
       "      <td>571.815054</td>\n",
       "      <td>16.192514</td>\n",
       "      <td>0</td>\n",
       "      <td>0</td>\n",
       "    </tr>\n",
       "    <tr>\n",
       "      <th>3</th>\n",
       "      <td>3</td>\n",
       "      <td>84.937053</td>\n",
       "      <td>400.061925</td>\n",
       "      <td>15.722074</td>\n",
       "      <td>1</td>\n",
       "      <td>0</td>\n",
       "    </tr>\n",
       "    <tr>\n",
       "      <th>4</th>\n",
       "      <td>4</td>\n",
       "      <td>94.213997</td>\n",
       "      <td>547.489832</td>\n",
       "      <td>10.959266</td>\n",
       "      <td>1</td>\n",
       "      <td>1</td>\n",
       "    </tr>\n",
       "  </tbody>\n",
       "</table>\n",
       "</div>"
      ],
      "text/plain": [
       "   customer_id  average_mileage_per_rental  total_maintenance_cost  \\\n",
       "0            0                   89.143694              425.117253   \n",
       "1            1                  109.973454              556.759473   \n",
       "2            2                  102.829785              571.815054   \n",
       "3            3                   84.937053              400.061925   \n",
       "4            4                   94.213997              547.489832   \n",
       "\n",
       "   average_rental_duration  late_return  at_risk  \n",
       "0                10.451553            1        0  \n",
       "1                11.597245            0        0  \n",
       "2                16.192514            0        0  \n",
       "3                15.722074            1        0  \n",
       "4                10.959266            1        1  "
      ]
     },
     "execution_count": 1,
     "metadata": {},
     "output_type": "execute_result"
    }
   ],
   "source": [
    "import numpy as np\n",
    "import pandas as pd\n",
    "\n",
    "#set a random seed\n",
    "np.random.seed(123)\n",
    "\n",
    "#number of customers\n",
    "n_customers = 1000\n",
    "\n",
    "#create a dataframe\n",
    "\n",
    "data = pd.DataFrame({\n",
    "    'customer_id': np.arange(n_customers),\n",
    "    'average_mileage_per_rental': np.random.normal(100, 10, n_customers),\n",
    "    'total_maintenance_cost': np.random.normal(500, 100, n_customers),\n",
    "    'average_rental_duration': np.random.normal(14, 2, n_customers),\n",
    "    'late_return': np.random.choice([0, 1], n_customers, p=[0.7, 0.3]),\n",
    "})\n",
    "\n",
    "# create a binary 'at-risk' column. Assume that customers who often return cars late and have high maintenance costs are more likely to be at risk\n",
    "data['at_risk'] = ((data['late_return'] == 1) & (data['total_maintenance_cost'] > data['total_maintenance_cost'].median())).astype(int)\n",
    "\n",
    "data.head()"
   ]
  },
  {
   "cell_type": "markdown",
   "metadata": {},
   "source": [
    "This code creates a DataFrame with 1000 rows, each representing a different customer. The average_mileage_per_rental, total_maintenance_cost, and average_rental_duration columns are filled with random numbers drawn from a normal distribution. The late_return column is filled with random 0s and 1s, representing whether each customer tends to return cars late. The at_risk column is 1 for customers who often return cars late and have above-median maintenance costs, and 0 otherwise."
   ]
  },
  {
   "cell_type": "markdown",
   "metadata": {},
   "source": [
    "# Create features\n",
    "df['average_mileage_per_rental'] = df.groupby('customer_id')['mileage'].transform('mean')\n",
    "df['total_maintenance_cost'] = df.groupby('customer_id')['maintenance_cost'].transform('sum')\n",
    "df['average_rental_duration'] = df.groupby('customer_id')['rental_duration'].transform('mean')\n",
    "df['late_return'] = df['return_date'] > df['due_date']\n",
    "\n",
    "Alternative option"
   ]
  },
  {
   "cell_type": "code",
   "execution_count": 2,
   "metadata": {},
   "outputs": [
    {
     "name": "stdout",
     "output_type": "stream",
     "text": [
      "              precision    recall  f1-score   support\n",
      "\n",
      "           0       1.00      0.98      0.99       261\n",
      "           1       0.89      1.00      0.94        39\n",
      "\n",
      "    accuracy                           0.98       300\n",
      "   macro avg       0.94      0.99      0.97       300\n",
      "weighted avg       0.99      0.98      0.98       300\n",
      "\n"
     ]
    }
   ],
   "source": [
    "from sklearn.model_selection import train_test_split\n",
    "from sklearn.linear_model import LogisticRegression\n",
    "from sklearn.metrics import classification_report\n",
    "\n",
    "X = data[['average_mileage_per_rental', 'total_maintenance_cost', 'average_rental_duration', 'late_return']]\n",
    "y = data['at_risk']\n",
    "X_train, X_test, y_train, y_test = train_test_split(X, y, test_size=0.3, random_state=123)\n",
    "\n",
    "#build and evaluate the model\n",
    "model = LogisticRegression()\n",
    "model.fit(X_train, y_train)\n",
    "y_pred = model.predict(X_test)\n",
    "print(classification_report(y_test, y_pred))"
   ]
  },
  {
   "cell_type": "markdown",
   "metadata": {},
   "source": [
    "\n",
    "These are excellent results! Your model has an accuracy of 0.98, which means it correctly identified 98% of the cases in your test set.\n",
    "\n",
    "The precision for class 0 (not at-risk) is 1.00, meaning when your model predicts a customer is not at-risk, it’s correct 100% of the time. For class 1 (at-risk), the precision is 0.89, so when your model predicts a customer is at-risk, it’s correct 89% of the time.\n",
    "\n",
    "The recall for class 0 is 0.98, meaning your model correctly identified 98% of the not at-risk customers. For class 1, the recall is 1.00, so it correctly identified all the at-risk customers.\n",
    "\n",
    "The F1-score is a balanced measure of precision and recall. An F1-score reaches its best value at 1 (perfect precision and recall) and worst at 0. Your model has an F1-score of 0.99 for class 0 and 0.94 for class 1, which are very good scores.\n",
    "\n",
    "The support is the number of samples of the true response that lie in that class. So, there were 261 customers not at-risk and 39 at-risk in your test set."
   ]
  },
  {
   "cell_type": "code",
   "execution_count": 18,
   "metadata": {},
   "outputs": [
    {
     "name": "stdout",
     "output_type": "stream",
     "text": [
      "[0]\n"
     ]
    }
   ],
   "source": [
    "X_new = data.loc[data['customer_id'] == 1000-1, ['average_mileage_per_rental', 'total_maintenance_cost', 'average_rental_duration', 'late_return']]\n",
    "y_newpred = model.predict(X_new)\n",
    "print(y_newpred)"
   ]
  }
 ],
 "metadata": {
  "kernelspec": {
   "display_name": "Python 3",
   "language": "python",
   "name": "python3"
  },
  "language_info": {
   "codemirror_mode": {
    "name": "ipython",
    "version": 3
   },
   "file_extension": ".py",
   "mimetype": "text/x-python",
   "name": "python",
   "nbconvert_exporter": "python",
   "pygments_lexer": "ipython3",
   "version": "3.11.4"
  }
 },
 "nbformat": 4,
 "nbformat_minor": 2
}
