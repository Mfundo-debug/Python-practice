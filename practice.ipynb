{
 "cells": [
  {
   "cell_type": "markdown",
   "id": "b18e5172-e1c6-4721-adee-32de913637b8",
   "metadata": {},
   "source": [
    "### Given  a number n for each integer i in the ranger from 1 to n inclusive print one value per line a follows:\n",
    "* if i is a multiple of both 3 and 5 print FizzBuzz\n",
    "* if i is a multiple of 3 but not 5 print Fizz\n",
    "* if i is a multiple of 5 but not 3 print Buzz\n",
    "* if i is not multiple of 3 or 5 print the value of i"
   ]
  },
  {
   "cell_type": "code",
   "execution_count": 7,
   "id": "84ecc72b-a1ec-4882-b702-b9727b2075c4",
   "metadata": {
    "execution": {
     "iopub.execute_input": "2023-03-20T12:17:52.106319Z",
     "iopub.status.busy": "2023-03-20T12:17:52.106319Z",
     "iopub.status.idle": "2023-03-20T12:17:52.122730Z",
     "shell.execute_reply": "2023-03-20T12:17:52.122730Z",
     "shell.execute_reply.started": "2023-03-20T12:17:52.106319Z"
    },
    "nbgrader": {
     "grade": false,
     "grade_id": "cell-ab0348fd320b6785",
     "locked": true,
     "points": 5,
     "schema_version": 3,
     "solution": false,
     "task": true
    },
    "tags": []
   },
   "outputs": [
    {
     "name": "stdout",
     "output_type": "stream",
     "text": [
      "1\n",
      "2\n",
      "Fizz\n",
      "4\n",
      "Buzz\n",
      "Fizz\n",
      "7\n",
      "8\n",
      "Fizz\n",
      "Buzz\n",
      "11\n",
      "Fizz\n",
      "13\n",
      "14\n",
      "FizzBuzz\n",
      "16\n",
      "17\n",
      "Fizz\n",
      "19\n",
      "Buzz\n"
     ]
    }
   ],
   "source": [
    "def FizzBuzz(n):\n",
    "    for i in range(1, n+1):\n",
    "        if i%3 ==0 and i%5==0:\n",
    "            print(\"FizzBuzz\")\n",
    "            \n",
    "        elif i%3==0:\n",
    "            print(\"Fizz\")\n",
    "            \n",
    "        elif i%5==0:\n",
    "            print(\"Buzz\")\n",
    "        else:\n",
    "            print(i)\n",
    "if __name__ == '__main__':\n",
    "    FizzBuzz(20)"
   ]
  },
  {
   "cell_type": "markdown",
   "id": "ef2d5fb3-c39d-474a-8394-fe1e772ae861",
   "metadata": {
    "nbgrader": {
     "grade": true,
     "grade_id": "cell-03bfd311e9779ff1",
     "locked": false,
     "points": 10,
     "schema_version": 3,
     "solution": true,
     "task": false
    },
    "tags": []
   },
   "source": [
    "## Given sample \n",
    "\n",
    "* Find Q1, Q3 and IQR, Number of outliers"
   ]
  },
  {
   "cell_type": "code",
   "execution_count": 15,
   "id": "964eef12-5a26-48a4-ba8e-239f27def076",
   "metadata": {
    "execution": {
     "iopub.execute_input": "2023-03-20T12:58:39.462013Z",
     "iopub.status.busy": "2023-03-20T12:58:39.456515Z",
     "iopub.status.idle": "2023-03-20T12:58:39.505037Z",
     "shell.execute_reply": "2023-03-20T12:58:39.505037Z",
     "shell.execute_reply.started": "2023-03-20T12:58:39.462013Z"
    },
    "tags": []
   },
   "outputs": [
    {
     "name": "stdout",
     "output_type": "stream",
     "text": [
      "Q1: 7\n",
      "Q3: 13\n",
      "IQR: 6\n",
      "Lower_bound: -2.0\n",
      "Upper bound: 22.0\n",
      "Outliers: [34]\n",
      "Number of outliers: 1\n"
     ]
    }
   ],
   "source": [
    "data = [2, 7, 8, 9, 10, 13, 15, 17, 34]\n",
    "\n",
    "data_sorted = sorted(data)\n",
    "n = len(data_sorted)\n",
    "Q1_index = (n+1)// 4\n",
    "Q3_index = 3 * Q1_index\n",
    "Q1 = data_sorted[Q1_index -1]\n",
    "Q3 = data_sorted[Q3_index -1]\n",
    "IQR = Q3-Q1\n",
    "\n",
    "lower_bound = Q1 - 1.5*IQR\n",
    "upper_bound = Q3 + 1.5*IQR\n",
    "\n",
    "#count number of outliers\n",
    "\n",
    "outliers = [x for x in data_sorted if x < lower_bound or x > upper_bound]\n",
    "num_outliers = len(outliers)\n",
    "print(\"Q1:\", Q1)\n",
    "print(\"Q3:\", Q3)\n",
    "print(\"IQR:\", IQR)\n",
    "print(\"Lower_bound:\", lower_bound)\n",
    "print(\"Upper bound:\", upper_bound)\n",
    "print(\"Outliers:\", outliers)\n",
    "print(\"Number of outliers:\", num_outliers)\n"
   ]
  },
  {
   "cell_type": "markdown",
   "id": "f8519511-f7b1-473f-ad92-45fd73f54bc4",
   "metadata": {},
   "source": [
    "## the first prize for a lottery is $1000$ and second prize is $500. if the probabilities of winning the first and second prizes are 0.005 and 0.007. respectively , what is the expected prize amount"
   ]
  },
  {
   "cell_type": "code",
   "execution_count": 3,
   "id": "c6b865ff-d351-48c9-a610-0ee4f77ec103",
   "metadata": {
    "execution": {
     "iopub.execute_input": "2023-03-24T04:11:09.837616Z",
     "iopub.status.busy": "2023-03-24T04:11:09.837616Z",
     "iopub.status.idle": "2023-03-24T04:11:19.068790Z",
     "shell.execute_reply": "2023-03-24T04:11:19.068790Z",
     "shell.execute_reply.started": "2023-03-24T04:11:09.837616Z"
    },
    "tags": []
   },
   "outputs": [
    {
     "name": "stdout",
     "output_type": "stream",
     "text": [
      "Enter the haystack string:  Needle\n",
      "enter the needle string:  haystack\n"
     ]
    },
    {
     "name": "stdout",
     "output_type": "stream",
     "text": [
      "Needle not found in haystack.\n"
     ]
    }
   ],
   "source": [
    "def findIndex(haystack, needle):\n",
    "    index = haystack.find(needle)\n",
    "    return index\n",
    "\n",
    "haystack = input(\"Enter the haystack string: \")\n",
    "needle = input(\"enter the needle string: \")\n",
    "\n",
    "index = findIndex(haystack, needle)\n",
    "\n",
    "if index == -1:\n",
    "    print(\"Needle not found in haystack.\")\n",
    "else:\n",
    "    print(f\"Index of first occurrence of needle in haystack: {index}\")"
   ]
  },
  {
   "cell_type": "code",
   "execution_count": 1,
   "id": "b8621ee7-356f-488e-8ce7-9e1d7aa3bf5f",
   "metadata": {},
   "outputs": [
    {
     "name": "stdout",
     "output_type": "stream",
     "text": [
      "['Alkaline', 'Ascensionism', 'Take me back to Eden']\n"
     ]
    }
   ],
   "source": [
    "songs = ['Take me back to Eden', 'Alkaline', 'Ascensionism']\n",
    "songs.sort()\n",
    "print(songs)"
   ]
  },
  {
   "cell_type": "code",
   "execution_count": 2,
   "id": "92e6a01e",
   "metadata": {},
   "outputs": [
    {
     "data": {
      "text/plain": [
       "'This is the playlist: Alkaline, Ascensionism, Take me back to Eden'"
      ]
     },
     "execution_count": 2,
     "metadata": {},
     "output_type": "execute_result"
    }
   ],
   "source": [
    "f\"This is the playlist: {\", \".join(songs)}\""
   ]
  },
  {
   "cell_type": "code",
   "execution_count": 3,
   "id": "271f1520",
   "metadata": {},
   "outputs": [
    {
     "name": "stdout",
     "output_type": "stream",
     "text": [
      "This is the playlist: Alkaline\n",
      "Ascensionism\n",
      "Take me back to Eden\n"
     ]
    }
   ],
   "source": [
    "print(f\"This is the playlist: {'\\n'.join(songs)}\")"
   ]
  },
  {
   "cell_type": "code",
   "execution_count": 5,
   "id": "5a1b18aa",
   "metadata": {},
   "outputs": [
    {
     "name": "stdout",
     "output_type": "stream",
     "text": [
      "This is the playlist: Alkaline♥Ascensionism♥Take me back to Eden\n"
     ]
    }
   ],
   "source": [
    "print(f\"This is the playlist: {'\\N{BLACK HEART SUIT}'.join(songs)}\")"
   ]
  },
  {
   "cell_type": "code",
   "execution_count": null,
   "id": "6ecb9585",
   "metadata": {},
   "outputs": [],
   "source": []
  }
 ],
 "metadata": {
  "kernelspec": {
   "display_name": "Python 3 (ipykernel)",
   "language": "python",
   "name": "python3"
  },
  "language_info": {
   "codemirror_mode": {
    "name": "ipython",
    "version": 3
   },
   "file_extension": ".py",
   "mimetype": "text/x-python",
   "name": "python",
   "nbconvert_exporter": "python",
   "pygments_lexer": "ipython3",
   "version": "3.12.0"
  },
  "widgets": {
   "application/vnd.jupyter.widget-state+json": {
    "state": {},
    "version_major": 2,
    "version_minor": 0
   }
  }
 },
 "nbformat": 4,
 "nbformat_minor": 5
}
