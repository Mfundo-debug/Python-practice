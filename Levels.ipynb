{
 "cells": [
  {
   "cell_type": "markdown",
   "id": "f096fac7-6b61-4db7-8c1b-b02591c1ac04",
   "metadata": {},
   "source": [
    "Write a function that returns 3 nums\n",
    "for param1 = 1, param2 = 3, param3= 2 the output solution should be solution(param1,param2,param3) =6"
   ]
  },
  {
   "cell_type": "code",
   "execution_count": 1,
   "id": "422b64e5-9794-4395-af0f-8692727c99a9",
   "metadata": {},
   "outputs": [],
   "source": [
    "def solution(param1, param2, param3):\n",
    "    return param1 + param2 + param3"
   ]
  },
  {
   "cell_type": "code",
   "execution_count": 2,
   "id": "5e5a935b-3857-4b1c-bc17-dc651bae6827",
   "metadata": {},
   "outputs": [
    {
     "data": {
      "text/plain": [
       "6"
      ]
     },
     "execution_count": 2,
     "metadata": {},
     "output_type": "execute_result"
    }
   ],
   "source": [
    "result = solution(1,3,2)\n",
    "result"
   ]
  },
  {
   "cell_type": "markdown",
   "id": "43167f0e-136d-48ef-b072-63cf88e1fdc3",
   "metadata": {},
   "source": [
    "Given a year, return the century it is in. The first century spans from the year 1 up to and including the year 100, the second - from the year 101 up to and including the year 200, etc.\n",
    "\n",
    "Example\n",
    "\n",
    "For year = 1905, the output should be\n",
    "solution(year) = 20;\n",
    "For year = 1700, the output should be\n",
    "solution(year) = 17"
   ]
  },
  {
   "cell_type": "code",
   "execution_count": 5,
   "id": "2abf1fe5-bc2d-43b4-a5ac-ca53a682e799",
   "metadata": {},
   "outputs": [],
   "source": [
    "def solution(year):\n",
    "    #calculate the century using integer division\n",
    "    century = (year - 1) // 100 +1\n",
    "    return century"
   ]
  },
  {
   "cell_type": "code",
   "execution_count": 6,
   "id": "4565b47c-2e48-41c8-8a62-236bb1655a39",
   "metadata": {},
   "outputs": [
    {
     "data": {
      "text/plain": [
       "17"
      ]
     },
     "execution_count": 6,
     "metadata": {},
     "output_type": "execute_result"
    }
   ],
   "source": [
    "#testing\n",
    "result = solution(1905)\n",
    "result\n",
    "\n",
    "result = solution(1700)\n",
    "result"
   ]
  },
  {
   "cell_type": "markdown",
   "id": "d0e149be-0abd-4d86-a540-384c5d88baf7",
   "metadata": {},
   "source": [
    "given the inpiut string, check if is palindrome\n",
    "For inputString = \"aabaa\", the output should be\n",
    "solution(inputString) = true;\n",
    "For inputString = \"abac\", the output should be\n",
    "solution(inputString) = false;\n",
    "For inputString = \"a\", the output should be\n",
    "solution(inputString) = true."
   ]
  },
  {
   "cell_type": "code",
   "execution_count": 7,
   "id": "1f1cffad-832f-454b-ba15-2310e431a5cd",
   "metadata": {},
   "outputs": [],
   "source": [
    "def solution(inputString):\n",
    "    return inputString == inputString[::-1]"
   ]
  },
  {
   "cell_type": "markdown",
   "id": "440fa62f-edc9-435a-bca0-07c70c14e002",
   "metadata": {},
   "source": [
    "he function checks if the input string is equal to its reverse by using the slicing notation [::-1] to create a reversed copy of the string. If the reversed copy is equal to the original string, then the function returns True, indicating that the string is a palindrome. Otherwise, it returns False."
   ]
  },
  {
   "cell_type": "code",
   "execution_count": 8,
   "id": "b8570c0c-3f10-4358-afa1-64134d9ea4c2",
   "metadata": {},
   "outputs": [
    {
     "data": {
      "text/plain": [
       "False"
      ]
     },
     "execution_count": 8,
     "metadata": {},
     "output_type": "execute_result"
    }
   ],
   "source": [
    "result = solution(\"aabaa\")\n",
    "result\n",
    "\n",
    "aab = solution(\"abac\")\n",
    "aab"
   ]
  },
  {
   "cell_type": "markdown",
   "id": "45ca2e83-ff91-4ab3-8f21-5419f189fa8c",
   "metadata": {},
   "source": [
    "Given an array of integers, find the pair of adjacent elements that has the largest product and return that product.\n",
    "Example\n",
    "For inputArray = [3, 6, -2, -5, 7, 3], the output should be\n",
    "solution(inputArray) = 21.\n",
    "\n",
    "7 and 3 produce the largest product."
   ]
  },
  {
   "cell_type": "code",
   "execution_count": 17,
   "id": "57ca7462-4860-4595-b6b3-9e195a359767",
   "metadata": {},
   "outputs": [],
   "source": [
    "def arr(inputArray):\n",
    "    max_product = inputArray[0] * inputArray[1]\n",
    "    for i in range(1, len(inputArray) - 1):\n",
    "        prod = inputArray[i] * inputArray[i+1]\n",
    "        if prod > max_product:\n",
    "            max_product = prod\n",
    "    return max_product"
   ]
  },
  {
   "cell_type": "markdown",
   "id": "6556c199-70a9-43f1-a87d-87d603bedcbf",
   "metadata": {},
   "source": [
    "The function initializes the max_product variable to the product of the first two elements in the array, and then iterates over the remaining elements in the array. For each adjacent pair of elements, it calculates the product and checks if it is greater than the current maximum product. If it is, then the maximum product is updated. The function returns the maximum product at the end."
   ]
  },
  {
   "cell_type": "code",
   "execution_count": 18,
   "id": "dcd82ef2-a164-45d6-b26f-72eef7be81da",
   "metadata": {},
   "outputs": [
    {
     "data": {
      "text/plain": [
       "21"
      ]
     },
     "execution_count": 18,
     "metadata": {},
     "output_type": "execute_result"
    }
   ],
   "source": [
    "result = arr([3, 6, -2, -5, 7, 3]) \n",
    "result"
   ]
  },
  {
   "cell_type": "markdown",
   "id": "95543b8f-9343-4137-b43e-dda0f1d73146",
   "metadata": {},
   "source": [
    "Below we will define an n-interesting polygon. Your task is to find the area of a polygon for a given n.\n",
    "\n",
    "A 1-interesting polygon is just a square with a side of length 1. An n-interesting polygon is obtained by taking the n - 1-interesting polygon and appending 1-interesting polygons to its rim, side by side. You can see the 1-, 2-, 3- and 4-interesting polygons in the picture below"
   ]
  },
  {
   "cell_type": "code",
   "execution_count": 75,
   "id": "d7f631d7-36ab-4b0c-8c36-22149316270c",
   "metadata": {},
   "outputs": [],
   "source": [
    "def area(n):\n",
    "     return (n+2)//2\n",
    "    \n",
    "    "
   ]
  },
  {
   "cell_type": "code",
   "execution_count": 80,
   "id": "b7def358-87b5-4e5a-86db-0d5657d1dd6d",
   "metadata": {},
   "outputs": [
    {
     "data": {
      "text/plain": [
       "3"
      ]
     },
     "execution_count": 80,
     "metadata": {},
     "output_type": "execute_result"
    }
   ],
   "source": [
    "area(4)"
   ]
  },
  {
   "cell_type": "code",
   "execution_count": null,
   "id": "b25b7c8e-2f89-42f1-b41d-b82cb878cccd",
   "metadata": {},
   "outputs": [],
   "source": []
  }
 ],
 "metadata": {
  "kernelspec": {
   "display_name": "Python 3 (ipykernel)",
   "language": "python",
   "name": "python3"
  },
  "language_info": {
   "codemirror_mode": {
    "name": "ipython",
    "version": 3
   },
   "file_extension": ".py",
   "mimetype": "text/x-python",
   "name": "python",
   "nbconvert_exporter": "python",
   "pygments_lexer": "ipython3",
   "version": "3.8.8"
  }
 },
 "nbformat": 4,
 "nbformat_minor": 5
}
